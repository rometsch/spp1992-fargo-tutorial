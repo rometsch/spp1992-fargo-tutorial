{
 "cells": [
  {
   "cell_type": "markdown",
   "id": "8c94c9a7-d32f-4905-8dae-74f48ee9f6a5",
   "metadata": {},
   "source": [
    "# Runtime"
   ]
  },
  {
   "cell_type": "markdown",
   "id": "64bc1a1a",
   "metadata": {},
   "source": [
    "## Subject of the exercise"
   ]
  },
  {
   "cell_type": "markdown",
   "id": "8a7893ae-dba6-417a-8b36-68a226f39708",
   "metadata": {},
   "source": [
    "Multi-dimensional hydro simulations can take long!\n",
    "Days, weeks, month and even years for longterm 3D simulations.\n",
    "\n",
    "This exercise is supposed to give you an idea of how much longer simulations with higher resolution take.\n",
    "\n",
    "Also, you will learn why the FARGO algorithm is amazing."
   ]
  },
  {
   "cell_type": "code",
   "execution_count": 1,
   "id": "d9d57a01-1eb0-416b-bc36-a988a2049032",
   "metadata": {},
   "outputs": [],
   "source": [
    "example_name = \"runtime\"\n",
    "!mkdir -p $example_name\n",
    "import os\n",
    "os.chdir(example_name)"
   ]
  },
  {
   "cell_type": "markdown",
   "id": "3ecdb48e-e0e7-43e7-abb1-1ff7671a33ee",
   "metadata": {
    "tags": []
   },
   "source": [
    "## Setup\n",
    "\n",
    "We'll take the example setup file from the examples directory and modify it in python.\n",
    "\n",
    "We remove the planet for now and run only for a very short time. There is an output file `monitor/timestepLogging.dat` "
   ]
  },
  {
   "cell_type": "code",
   "execution_count": 5,
   "id": "e0f8dc46",
   "metadata": {},
   "outputs": [],
   "source": [
    "# make a copy of the default file\n",
    "\n",
    "src_config = \"../../type1.yml\"\n",
    "\n",
    "import ruamel.yaml\n",
    "yaml = ruamel.yaml.YAML()\n",
    "\n",
    "config_file = f\"setup_ref.yml\"\n",
    "\n",
    "with open(src_config, \"r\") as infile:\n",
    "    config = yaml.load(infile)\n",
    "\n",
    "config[\"nbody\"][1][\"mass\"] = 2e-5\n",
    "config[\"DT\"] = 0.314 # monitor scalar files around every half orbit\n",
    "config[\"Ninterm\"] = 20 # write a snapshot every orbit\n",
    "config[\"Ntot\"] = 1 # wirte 100 snapshots\n",
    "# use very low resolution by setting it to 2 cell per scaleheight, cps\n",
    "config[\"cps\"] = 2\n",
    "del config[\"nbody\"][1]\n",
    "\n",
    "config[\"OutputDir\"] = f\"output/2cps_fargo\"\n",
    "\n",
    "\n",
    "# write the file to disk\n",
    "with open(config_file, \"w\") as outfile:\n",
    "    yaml.dump(config, outfile)"
   ]
  },
  {
   "cell_type": "markdown",
   "id": "9847493f-e6e7-42ab-842e-5141ef11ba33",
   "metadata": {},
   "source": [
    "## Run the simulation"
   ]
  },
  {
   "cell_type": "markdown",
   "id": "9d8c402b-c716-4636-b615-88c38beabdbb",
   "metadata": {},
   "source": [
    "Now we can run all three simulations.\n",
    "\n",
    "Here is how to start one of them:"
   ]
  },
  {
   "cell_type": "code",
   "execution_count": 6,
   "id": "990e567c",
   "metadata": {},
   "outputs": [
    {
     "name": "stdout",
     "output_type": "stream",
     "text": [
      "cd /home/thomas/repo/spp1992-fargo-tutorial/notebooks/runtime && run_fargo -np 1 -nt 4 auto setup_ref.yml\n"
     ]
    }
   ],
   "source": [
    "cwd = os.getcwd()\n",
    "cmd = f\"cd {cwd} && run_fargo -np 1 -nt 4 auto {config_file}\"\n",
    "print(cmd)"
   ]
  },
  {
   "cell_type": "markdown",
   "id": "488fcff5-4364-417d-bdab-7166baa44282",
   "metadata": {},
   "source": [
    "## Plotting the results"
   ]
  },
  {
   "cell_type": "markdown",
   "id": "ca501100-63d8-41c7-b264-5af50a4069b5",
   "metadata": {},
   "source": [
    "Investigate the average time one hydro step takes, the number of hydrosteps, and the overall runtime."
   ]
  },
  {
   "cell_type": "markdown",
   "id": "71684101-e7b7-43d3-a5ff-bbd44bfc8bcf",
   "metadata": {},
   "source": [
    "You can use the tool to inspect tab separated text files from the repository."
   ]
  },
  {
   "cell_type": "code",
   "execution_count": 7,
   "id": "e35c7207-17d0-4537-a2c9-e7a58b1788a4",
   "metadata": {},
   "outputs": [
    {
     "name": "stdout",
     "output_type": "stream",
     "text": [
      "Available variables:\n",
      " 0   snapshot number\n",
      " 1   monitor number\n",
      " 2   hydrostep number\n",
      " 3   Number of Hydrosteps in last DT\n",
      " 4   PhysicalTime\n",
      " 5   walltime\n",
      " 6   walltime per hydrostep\n",
      " 7   mean dt\n",
      " 8   min dt\n",
      " 9   std dev dt\n"
     ]
    }
   ],
   "source": [
    "!$(dirname $(which run_fargo))/Tools/inspect_tab_file.py output/2cps_fargo/monitor/timestepLogging.dat"
   ]
  },
  {
   "cell_type": "code",
   "execution_count": 9,
   "id": "c51e36e4-9df5-4f62-af48-370cb125cffb",
   "metadata": {},
   "outputs": [
    {
     "name": "stdout",
     "output_type": "stream",
     "text": [
      "         0\t         0\t    0.0118\t         0\n",
      "         1\t         7\t    0.0239\t      1.74\n",
      "         2\t        14\t    0.0332\t      1.31\n",
      "         3\t        21\t    0.0429\t      1.38\n",
      "         4\t        28\t    0.0528\t      1.41\n",
      "         5\t        35\t    0.0621\t      1.33\n",
      "         6\t        42\t    0.0714\t      1.32\n",
      "         7\t        49\t    0.0807\t      1.32\n",
      "         8\t        56\t      0.09\t      1.34\n",
      "         9\t        63\t    0.0995\t      1.34\n",
      "        10\t        70\t     0.109\t      1.32\n",
      "        11\t        77\t     0.118\t      1.32\n",
      "        12\t        84\t     0.127\t      1.32\n",
      "        13\t        91\t     0.136\t      1.32\n",
      "        14\t        98\t     0.146\t      1.39\n",
      "        15\t       105\t     0.156\t      1.32\n",
      "        16\t       112\t     0.167\t      1.57\n",
      "        17\t       119\t      0.18\t       1.9\n",
      "        18\t       126\t     0.192\t       1.7\n",
      "        19\t       133\t     0.201\t      1.35\n",
      "        20\t       140\t     0.214\t      1.85\n"
     ]
    }
   ],
   "source": [
    "!$(dirname $(which run_fargo))/Tools/inspect_tab_file.py output/2cps_fargo/monitor/timestepLogging.dat 1 2 5 6"
   ]
  },
  {
   "cell_type": "markdown",
   "id": "a7f9545a-0b75-44df-b940-5cfc81f35eca",
   "metadata": {},
   "source": [
    "## Your turn\n",
    "\n",
    "This is where the exercise starts for you.\n",
    "\n",
    "Repeat the simulation\n",
    "\n",
    "- with different resolution (change `cps`) and \n",
    "- with and without the FARGO algorithm `Transport: fast` and `Transport: slow`.\n",
    "- with different numbers of processes and cores `run_fargo -np {number processes} -nt {number threads per process}`\n"
   ]
  },
  {
   "cell_type": "code",
   "execution_count": null,
   "id": "0fd87ee6-67f6-40aa-b449-05a0ca63eb75",
   "metadata": {},
   "outputs": [],
   "source": []
  }
 ],
 "metadata": {
  "kernelspec": {
   "display_name": "Python 3 (ipykernel)",
   "language": "python",
   "name": "python3"
  },
  "language_info": {
   "codemirror_mode": {
    "name": "ipython",
    "version": 3
   },
   "file_extension": ".py",
   "mimetype": "text/x-python",
   "name": "python",
   "nbconvert_exporter": "python",
   "pygments_lexer": "ipython3",
   "version": "3.10.12"
  },
  "vscode": {
   "interpreter": {
    "hash": "916dbcbb3f70747c44a77c7bcd40155683ae19c65e1c03b4aa3499c5328201f1"
   }
  }
 },
 "nbformat": 4,
 "nbformat_minor": 5
}
