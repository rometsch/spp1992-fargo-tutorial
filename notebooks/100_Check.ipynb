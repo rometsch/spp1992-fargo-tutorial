{
 "cells": [
  {
   "cell_type": "markdown",
   "id": "8c94c9a7-d32f-4905-8dae-74f48ee9f6a5",
   "metadata": {},
   "source": [
    "# System check"
   ]
  },
  {
   "cell_type": "markdown",
   "id": "64bc1a1a",
   "metadata": {},
   "source": [
    "This notebook test, if everything is set up for the tutorial session."
   ]
  },
  {
   "cell_type": "markdown",
   "id": "151247ed",
   "metadata": {},
   "source": [
    "First we create a new directory and change to it."
   ]
  },
  {
   "cell_type": "code",
   "execution_count": 1,
   "id": "d9d57a01-1eb0-416b-bc36-a988a2049032",
   "metadata": {},
   "outputs": [],
   "source": [
    "example_name = \"100_check\"\n",
    "!mkdir -p $example_name\n",
    "import os\n",
    "os.chdir(example_name)"
   ]
  },
  {
   "cell_type": "markdown",
   "id": "9ee685bc-d8b6-4cbc-9542-cbc6815ebb5c",
   "metadata": {},
   "source": [
    "## Make sure that run_fargo is the PATH"
   ]
  },
  {
   "cell_type": "markdown",
   "id": "c14f91c3-45a5-4972-adb1-90bb5afbcf13",
   "metadata": {},
   "source": [
    "We will just try to call fargo. If it does not work, you need to set it up.\n",
    "Go to the readme for instructions."
   ]
  },
  {
   "cell_type": "code",
   "execution_count": 2,
   "id": "a2260ebe-cbb8-40f9-a142-03fd4cea90fa",
   "metadata": {
    "tags": []
   },
   "outputs": [
    {
     "name": "stdout",
     "output_type": "stream",
     "text": [
      "Running fargo with 1 processes with 4 OMP threads each.\n",
      "[0] MPI rank #  0 OpenMP thread #  0 of  4 on ilum\n",
      "[0] MPI rank #  0 OpenMP thread #  2 of  4 on ilum\n",
      "[0] MPI rank #  0 OpenMP thread #  1 of  4 on ilum\n",
      "[0] MPI rank #  0 OpenMP thread #  3 of  4 on ilum\n",
      "[0] fargo: This file was compiled on Aug  1 2023, 23:29:27.\n",
      "[0] fargo: This version of FARGO used _GNU_SOURCE\n",
      "[0] fargo: This version of FARGO used NDEBUG. So no assertion checks!\n",
      "[0] Usage: /home/thomas/Desktop/fargocpt/bin/fargocpt [options] start|restart <N>|auto configfile\n",
      "\n",
      "start                  Start a new simulation from scratch\n",
      "restart <N>            Restart from an old simulation output, latest if no N specified\n",
      "auto                   Same as restart if output files are present, otherwise same as start\n",
      "-d | --debug           Print some debugging information on 'stdout' at each timestep\n",
      "-v | --verbose         Verbose mode. Tells everything about parameters file\n",
      "-q | --quiet           Only print errors and warnings\n",
      "-b |                   Adjust azimuthal velocity to impose strict centrifugal balance at t=0\n",
      "-c |                   Sloppy CFL condition (checked at each DT, not at each timestep)\n",
      "-n |                   Disable simulation. The program just reads parameters file\n",
      "-m |                   estimate memory usage and print out\n",
      "\n",
      "\n",
      "fatal: Input error: no parameter file specified\n",
      "[0] [bt]: backtrace written to backtrace.txt\n",
      "--------------------------------------------------------------------------\n",
      "MPI_ABORT was invoked on rank 0 in communicator MPI_COMM_WORLD\n",
      "with errorcode 128.\n",
      "\n",
      "NOTE: invoking MPI_ABORT causes Open MPI to kill all MPI processes.\n",
      "You may or may not see output from other processes, depending on\n",
      "exactly when Open MPI kills them.\n",
      "--------------------------------------------------------------------------\n"
     ]
    }
   ],
   "source": [
    "!run_fargo"
   ]
  },
  {
   "cell_type": "markdown",
   "id": "5131552a-d484-4590-84a1-8f30de92f90d",
   "metadata": {},
   "source": [
    "If you get a `Permission denied` error, run `chmod +x path/to/run_fargo`."
   ]
  },
  {
   "cell_type": "markdown",
   "id": "06e116f2-efd7-49d7-9758-79aa8e68f439",
   "metadata": {},
   "source": [
    "Here, it was sucessfully started. Of course, fargo complains about not having a parameter file."
   ]
  },
  {
   "cell_type": "markdown",
   "id": "3ecdb48e-e0e7-43e7-abb1-1ff7671a33ee",
   "metadata": {
    "tags": []
   },
   "source": [
    "## Preparing a setup file\n",
    "\n",
    "We'll take the example setup file from the examples directory and modify it in python.\n",
    "If you want to create setup files for a parameter study, just copy the code and make your own setup creator script."
   ]
  },
  {
   "cell_type": "code",
   "execution_count": 5,
   "id": "e0f8dc46",
   "metadata": {},
   "outputs": [],
   "source": [
    "# make a copy of the default file\n",
    "configfile = \"setup.yml\"\n",
    "!cp ../../config.yml $configfile\n",
    "\n",
    "try:\n",
    "    import ruamel.yaml\n",
    "except ImportError:\n",
    "    raise ImportError(\"Please install ruamel.yaml with `python3 -m pip install ruamel.yaml`\")\n",
    "yaml = ruamel.yaml.YAML()\n",
    "\n",
    "with open(configfile, \"r\") as infile:\n",
    "    config = yaml.load(infile)\n",
    "    \n",
    "config[\"nbody\"][1][\"accretion efficiency\"] = 0\n",
    "config[\"DT\"] = 0.314 # monitor scalar files around every half orbit\n",
    "config[\"Ninterm\"] = 20 # write a snapshot every orbit\n",
    "config[\"Ntot\"] = 300 # wirte 10 snapshots\n",
    "# use very low resolution by setting it to 2 cell per scaleheight, cps\n",
    "del config[\"Nrad\"]\n",
    "del config[\"Nsec\"]\n",
    "config[\"cps\"] = 2\n",
    "\n",
    "# write the file to disk\n",
    "with open(configfile, \"w\") as outfile:\n",
    "    yaml.dump(config, outfile)"
   ]
  },
  {
   "cell_type": "markdown",
   "id": "9847493f-e6e7-42ab-842e-5141ef11ba33",
   "metadata": {},
   "source": [
    "## Running the code"
   ]
  },
  {
   "cell_type": "code",
   "execution_count": 6,
   "id": "990e567c",
   "metadata": {},
   "outputs": [
    {
     "name": "stdout",
     "output_type": "stream",
     "text": [
      "cd /home/thomas/repo/spp1992-fargo-tutorial/notebooks/100_check && run_fargo -np 1 -nt 4 auto setup.yml\n"
     ]
    }
   ],
   "source": [
    "cwd = os.getcwd()\n",
    "cmd = f\"cd {cwd} && run_fargo -np 1 -nt 4 auto {configfile}\"\n",
    "print(cmd)"
   ]
  },
  {
   "cell_type": "markdown",
   "id": "ef59968d",
   "metadata": {},
   "source": [
    "In case you really want to run the code in a notebook, uncomment the following cell."
   ]
  }
 ],
 "metadata": {
  "kernelspec": {
   "display_name": "Python 3 (ipykernel)",
   "language": "python",
   "name": "python3"
  },
  "language_info": {
   "codemirror_mode": {
    "name": "ipython",
    "version": 3
   },
   "file_extension": ".py",
   "mimetype": "text/x-python",
   "name": "python",
   "nbconvert_exporter": "python",
   "pygments_lexer": "ipython3",
   "version": "3.10.12"
  },
  "vscode": {
   "interpreter": {
    "hash": "916dbcbb3f70747c44a77c7bcd40155683ae19c65e1c03b4aa3499c5328201f1"
   }
  }
 },
 "nbformat": 4,
 "nbformat_minor": 5
}
